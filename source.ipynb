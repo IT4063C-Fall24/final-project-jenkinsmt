{
 "cells": [
  {
   "attachments": {},
   "cell_type": "markdown",
   "metadata": {},
   "source": [
    "# {Project Title}📝\n",
    "\n",
    "![Banner](./assets/banner.jpeg)"
   ]
  },
  {
   "attachments": {},
   "cell_type": "markdown",
   "metadata": {},
   "source": [
    "## Topic\n",
    "*What problem are you (or your stakeholder) trying to address?*\n",
    "📝 <!-- Answer Below -->\n",
    "\n",
    "The problem I'm trying to address relates to the frequent concussions in professional football, which often times leads to CTE (Chronic Traumatic Encephalopathy) after the playing career. This has a large impact on the brains ability to process and respond to information, as well as many other negatives effects that inhibit ones ability to continue living their life. I'd like to look into current trends in professional football (NCAA/NFL) regarding concussion protocol and see how things have shifted in recent years as technology has advanced. In theory, you'd assume the amount of concussions would be reduced due to the new technology within the helmets to help with traumatic blows to the head area, but it seems as though the number of concussions has stayed relatively the same throughout everything. I'd like to research this more."
   ]
  },
  {
   "attachments": {},
   "cell_type": "markdown",
   "metadata": {},
   "source": [
    "## Project Question\n",
    "*What specific question are you seeking to answer with this project?*\n",
    "*This is not the same as the questions you ask to limit the scope of the project.*\n",
    "📝 <!-- Answer Below -->\n",
    "\n",
    "The questions I'm trying to answer would be: \n",
    "- Are there a certain amount of career concussions that we can point to as a threshold for CTE? If so, what is that number? \n",
    "- How much time do players in concussion protocol typically miss? Does this differ by age or position?"
   ]
  },
  {
   "attachments": {},
   "cell_type": "markdown",
   "metadata": {},
   "source": [
    "## What would an answer look like?\n",
    "*What is your hypothesized answer to your question?*\n",
    "📝 <!-- Answer Below -->\n",
    "\n",
    "An answer may look like: \n",
    "- At 6 concussions and beyond in an athletes playing career, they are statistically likely to be diagnosed with CTE.\n",
    "- At 4 career concussions, the likelihood of being diagnosed with CTE jumps significantly.\n",
    "- In the NFL, players at skill positions (QB, WR, RB, DB) typically miss more time while being in concussion protocol.\n",
    "- Players between ages 21-25 spend significantly less time in concussion protocol in comparison to players aged 26-30."
   ]
  },
  {
   "attachments": {},
   "cell_type": "markdown",
   "metadata": {},
   "source": [
    "## Data Sources\n",
    "*What 3 data sources have you identified for this project?*\n",
    "*How are you going to relate these datasets?*\n",
    "📝 <!-- Answer Below -->\n",
    "\n",
    "Data Source 1: https://www.prosportstransactions.com/football/Search/Search.php\n",
    "- NFL injury database, allowing people to view all injury designations throughout past NFL seasons.\n",
    "\n",
    "Data Source 2: https://www.nfl.com/injuries/\n",
    "- Similar to the first data source but is updated with the current season, which could be beneficial to see if any trends have shifted or started this year that differ from previous years.\n",
    "\n",
    "Data Source 3: https://www.kaggle.com/code/mpwolke/nfl-concussions/notebook\n",
    "- NFL concussion data beyond simply the injury designation. Showcases # of weeks in concussion list among many other things."
   ]
  },
  {
   "attachments": {},
   "cell_type": "markdown",
   "metadata": {},
   "source": [
    "## Approach and Analysis\n",
    "*What is your approach to answering your project question?*\n",
    "*How will you use the identified data to answer your project question?*\n",
    "📝 <!-- Start Discussing the project here; you can add as many code cells as you need -->"
   ]
  },
  {
   "cell_type": "code",
   "execution_count": 1,
   "metadata": {},
   "outputs": [],
   "source": [
    "# Start your code here"
   ]
  },
  {
   "attachments": {},
   "cell_type": "markdown",
   "metadata": {},
   "source": [
    "## Resources and References\n",
    "*What resources and references have you used for this project?*\n",
    "📝 <!-- Answer Below -->"
   ]
  },
  {
   "cell_type": "code",
   "execution_count": 2,
   "metadata": {},
   "outputs": [
    {
     "name": "stdout",
     "output_type": "stream",
     "text": [
      "[NbConvertApp] Converting notebook source.ipynb to python\n",
      "[NbConvertApp] Writing 1271 bytes to source.py\n"
     ]
    }
   ],
   "source": [
    "# ⚠️ Make sure you run this cell at the end of your notebook before every submission!\n",
    "!jupyter nbconvert --to python source.ipynb"
   ]
  }
 ],
 "metadata": {
  "kernelspec": {
   "display_name": "Final-Project-Template-unx06iZ2",
   "language": "python",
   "name": "python3"
  },
  "language_info": {
   "codemirror_mode": {
    "name": "ipython",
    "version": 3
   },
   "file_extension": ".py",
   "mimetype": "text/x-python",
   "name": "python",
   "nbconvert_exporter": "python",
   "pygments_lexer": "ipython3",
   "version": "3.11.1"
  },
  "orig_nbformat": 4,
  "vscode": {
   "interpreter": {
    "hash": "8f59090b806211711d8ea6da25ee5b1ccb272a75a21b9536283520350d8dfda7"
   }
  }
 },
 "nbformat": 4,
 "nbformat_minor": 2
}
